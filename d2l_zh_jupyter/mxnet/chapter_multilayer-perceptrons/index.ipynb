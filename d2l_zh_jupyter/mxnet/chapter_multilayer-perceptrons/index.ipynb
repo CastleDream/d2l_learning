{
 "cells": [
  {
   "cell_type": "markdown",
   "metadata": {
    "origin_pos": 0
   },
   "source": [
    "# 多层感知机\n",
    ":label:`chap_perceptrons`\n",
    "\n",
    "在本章中，我们将介绍你的第一个真正的*深度*网络。最简单的深度网络称为多层感知机，它们由多层神经元组成，每一层都与下面一层（从中接收输入）和上面一层（反过来影响当前层的神经元）完全相连。当我们训练大容量模型时，我们面临着过拟合的风险。因此，我们需要为你提供第一次严格的概念介绍，包括过拟合、欠拟合和模型选择。为了帮助你解决这些问题，我们将介绍权重衰减和dropout等正则化技术。我们还将讨论数值稳定性和参数初始化相关的问题，这些问题是成功训练深度网络的关键。在整个过程中，我们的目标不仅是让你掌握概念，还希望让你掌握深度网络的实践方法。在本章的最后，我们将把到目前为止所介绍的内容应用到一个真实的案例：房价预测。我们将有关于模型计算性能、可伸缩性和效率相关的问题放在后面的章节中讨论。\n",
    "\n",
    ":begin_tab:toc\n",
    " - [mlp](mlp.ipynb)\n",
    " - [mlp-scratch](mlp-scratch.ipynb)\n",
    " - [mlp-concise](mlp-concise.ipynb)\n",
    " - [underfit-overfit](underfit-overfit.ipynb)\n",
    " - [weight-decay](weight-decay.ipynb)\n",
    " - [dropout](dropout.ipynb)\n",
    " - [backprop](backprop.ipynb)\n",
    " - [numerical-stability-and-init](numerical-stability-and-init.ipynb)\n",
    " - [environment](environment.ipynb)\n",
    " - [kaggle-house-price](kaggle-house-price.ipynb)\n",
    ":end_tab:\n"
   ]
  }
 ],
 "metadata": {
  "language_info": {
   "name": "python"
  }
 },
 "nbformat": 4,
 "nbformat_minor": 4
}