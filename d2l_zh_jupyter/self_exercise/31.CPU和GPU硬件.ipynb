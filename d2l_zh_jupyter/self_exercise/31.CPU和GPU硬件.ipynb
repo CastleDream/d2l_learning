{
 "cells": [
  {
   "cell_type": "markdown",
   "metadata": {},
   "source": [
    "# 1. numpy向量和for循环比较"
   ]
  },
  {
   "cell_type": "code",
   "execution_count": 1,
   "metadata": {},
   "outputs": [],
   "source": [
    "import time\n",
    "import numpy as np"
   ]
  },
  {
   "cell_type": "code",
   "execution_count": 71,
   "metadata": {},
   "outputs": [],
   "source": [
    "numLen=82000"
   ]
  },
  {
   "cell_type": "code",
   "execution_count": 72,
   "metadata": {},
   "outputs": [],
   "source": [
    "a=np.random.rand(numLen)\n",
    "b=np.random.rand(numLen)\n",
    "c=np.zeros(numLen)\n",
    "# print(f\"a的值为：{a}，\\nb的值为{b}\")"
   ]
  },
  {
   "cell_type": "code",
   "execution_count": 73,
   "metadata": {},
   "outputs": [
    {
     "name": "stdout",
     "output_type": "stream",
     "text": [
      "for循环花费时间为：0.029841699999906268\n",
      "numpy向量花费时间为：0.0002684999999473803\n",
      "二者时间差距为111.14227190225157倍\n"
     ]
    }
   ],
   "source": [
    "start=time.perf_counter()\n",
    "for i in range(numLen):\n",
    "    c[i]=a[i]+b[i]\n",
    "end=time.perf_counter()\n",
    "for_time=end-start\n",
    "print(f\"for循环花费时间为：{end-start}\")\n",
    "\n",
    "start=time.perf_counter()\n",
    "c=a+b\n",
    "end=time.perf_counter()\n",
    "print(f\"numpy向量花费时间为：{end-start}\")\n",
    "\n",
    "vertor_time=end-start\n",
    "print(f\"二者时间差距为{(for_time/vertor_time)}倍\")"
   ]
  },
  {
   "cell_type": "code",
   "execution_count": 24,
   "metadata": {},
   "outputs": [
    {
     "name": "stdout",
     "output_type": "stream",
     "text": [
      "for循环花费时间为：0.00021870000000490109\n",
      "numpy向量花费时间为：0.00012019999985568575\n",
      "二者时间差距为1.8194675563017986倍\n"
     ]
    },
    {
     "name": "stderr",
     "output_type": "stream",
     "text": [
      "C:\\software\\anaconda\\lib\\site-packages\\ipykernel_launcher.py:1: DeprecationWarning: time.clock has been deprecated in Python 3.3 and will be removed from Python 3.8: use time.perf_counter or time.process_time instead\n",
      "  \"\"\"Entry point for launching an IPython kernel.\n",
      "C:\\software\\anaconda\\lib\\site-packages\\ipykernel_launcher.py:4: DeprecationWarning: time.clock has been deprecated in Python 3.3 and will be removed from Python 3.8: use time.perf_counter or time.process_time instead\n",
      "  after removing the cwd from sys.path.\n",
      "C:\\software\\anaconda\\lib\\site-packages\\ipykernel_launcher.py:8: DeprecationWarning: time.clock has been deprecated in Python 3.3 and will be removed from Python 3.8: use time.perf_counter or time.process_time instead\n",
      "  \n",
      "C:\\software\\anaconda\\lib\\site-packages\\ipykernel_launcher.py:10: DeprecationWarning: time.clock has been deprecated in Python 3.3 and will be removed from Python 3.8: use time.perf_counter or time.process_time instead\n",
      "  # Remove the CWD from sys.path while we load stuff.\n"
     ]
    }
   ],
   "source": [
    "start=time.clock()\n",
    "for i in range(numLen):\n",
    "    c[i]=a[i]+b[i]\n",
    "end=time.clock()\n",
    "for_time=end-start\n",
    "print(f\"for循环花费时间为：{for_time}\")\n",
    "\n",
    "start=time.clock()\n",
    "c=a+b\n",
    "end=time.clock()\n",
    "print(f\"numpy向量花费时间为：{end-start}\")\n",
    "vertor_time=end-start\n",
    "print(f\"二者时间差距为{(for_time/vertor_time)}倍\")"
   ]
  },
  {
   "cell_type": "code",
   "execution_count": null,
   "metadata": {},
   "outputs": [],
   "source": []
  },
  {
   "cell_type": "markdown",
   "metadata": {},
   "source": [
    "# 其他"
   ]
  },
  {
   "cell_type": "markdown",
   "metadata": {},
   "source": [
    "## 运行时间衡量库"
   ]
  },
  {
   "cell_type": "markdown",
   "metadata": {},
   "source": [
    "```\n",
    "clock() -> floating point number\n",
    "\n",
    "Return the CPU time or real time since the start of the process or since\n",
    "the first call to clock().  This has as much precision as the system\n",
    "records.\n",
    "\n",
    "time.clock()函数，也是衡量cpu时间的，比通常的系统记录更精确\n",
    "\n",
    "但是报错\n",
    "DeprecationWarning: time.clock has been deprecated in Python 3.3 and will be removed from Python 3.8: use time.perf_counter or time.process_time instead\n",
    "\n",
    "time.perf_counter函数（也是用来衡量时间/运算效率的）\n",
    "Performance counter for benchmarking\n",
    "\n",
    "但是如上，两个返回的结果差距很大\n",
    "\n",
    "```\n"
   ]
  },
  {
   "cell_type": "code",
   "execution_count": null,
   "metadata": {},
   "outputs": [],
   "source": []
  }
 ],
 "metadata": {
  "kernelspec": {
   "display_name": "Python 3",
   "language": "python",
   "name": "python3"
  },
  "language_info": {
   "codemirror_mode": {
    "name": "ipython",
    "version": 3
   },
   "file_extension": ".py",
   "mimetype": "text/x-python",
   "name": "python",
   "nbconvert_exporter": "python",
   "pygments_lexer": "ipython3",
   "version": "3.7.6"
  }
 },
 "nbformat": 4,
 "nbformat_minor": 4
}
