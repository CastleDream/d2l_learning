{
 "cells": [
  {
   "cell_type": "code",
   "execution_count": 8,
   "id": "bd3581b9-5b90-430f-aea6-f3ec9045f1a1",
   "metadata": {},
   "outputs": [],
   "source": [
    "import torch\n",
    "from torch import nn\n",
    "import d2l_torch as d2l\n",
    "\n",
    "import os\n",
    "os.environ[\"OMP_NUM_THREADS\"] = \"1\""
   ]
  },
  {
   "cell_type": "markdown",
   "id": "cea91426-47ba-4968-8b93-3e7c24eda574",
   "metadata": {},
   "source": [
    "这里老师讲的时候，使用的仍然是FASHION-MNIST这个简单的数据集，但是我想起来之前keras示例代码里有个猫狗分类数据集，不过现在最新的版本已经换成Xinception了。。。找找，试试那个数据集，但是pytorch读数据的时候，那个dataset类需要自己定义，可能比较花时间，找时间再搞吧"
   ]
  },
  {
   "cell_type": "markdown",
   "id": "0c04e6d7-8a63-4e87-bddc-157fa761e579",
   "metadata": {},
   "source": [
    "# FASHION_MNIST"
   ]
  },
  {
   "cell_type": "markdown",
   "id": "3a960c35-602a-4de7-acc8-c1ecfa765e2d",
   "metadata": {},
   "source": [
    "## 定义网络结构"
   ]
  },
  {
   "cell_type": "markdown",
   "id": "75f98d5f-9de5-4f3e-b601-7899ad115bec",
   "metadata": {},
   "source": [
    "Alexnet"
   ]
  },
  {
   "cell_type": "code",
   "execution_count": 9,
   "id": "ea7be9a4-61d1-4bea-9e45-84491f5c9a67",
   "metadata": {},
   "outputs": [],
   "source": [
    "net=nn.Sequential(\n",
    "    nn.Conv2d(1,96,kernel_size=11,stride=4),nn.ReLU(),\n",
    "    nn.MaxPool2d(kernel_size=3,stride=2),\n",
    "    nn.Conv2d(96,256,kernel_size=5,padding=2),nn.ReLU(),\n",
    "    nn.MaxPool2d(kernel_size=3,stride=2),\n",
    "    nn.Conv2d(256,384,kernel_size=3,padding=1),nn.ReLU(),\n",
    "    nn.Conv2d(384,384,kernel_size=3,padding=1),nn.ReLU(),\n",
    "    nn.Conv2d(384,256,kernel_size=3,padding=1),nn.ReLU(),\n",
    "    nn.MaxPool2d(kernel_size=3,stride=2),nn.Flatten(),\n",
    "    nn.Linear(6400,4096),nn.ReLU(),nn.Dropout(p=0.5),\n",
    "    nn.Linear(4096,4096),nn.ReLU(),nn.Dropout(p=0.5),\n",
    "    nn.Linear(4096,10))"
   ]
  },
  {
   "cell_type": "code",
   "execution_count": 12,
   "id": "8f2c8435-7703-47a4-9e7e-3702b86eae32",
   "metadata": {},
   "outputs": [
    {
     "name": "stdout",
     "output_type": "stream",
     "text": [
      "Conv2d, Output shape\t:torch.Size([1, 96, 54, 54])\n",
      "ReLU, Output shape\t:torch.Size([1, 96, 54, 54])\n",
      "MaxPool2d, Output shape\t:torch.Size([1, 96, 26, 26])\n",
      "Conv2d, Output shape\t:torch.Size([1, 256, 26, 26])\n",
      "ReLU, Output shape\t:torch.Size([1, 256, 26, 26])\n",
      "MaxPool2d, Output shape\t:torch.Size([1, 256, 12, 12])\n",
      "Conv2d, Output shape\t:torch.Size([1, 384, 12, 12])\n",
      "ReLU, Output shape\t:torch.Size([1, 384, 12, 12])\n",
      "Conv2d, Output shape\t:torch.Size([1, 384, 12, 12])\n",
      "ReLU, Output shape\t:torch.Size([1, 384, 12, 12])\n",
      "Conv2d, Output shape\t:torch.Size([1, 256, 12, 12])\n",
      "ReLU, Output shape\t:torch.Size([1, 256, 12, 12])\n",
      "MaxPool2d, Output shape\t:torch.Size([1, 256, 5, 5])\n",
      "Flatten, Output shape\t:torch.Size([1, 6400])\n",
      "Linear, Output shape\t:torch.Size([1, 4096])\n",
      "ReLU, Output shape\t:torch.Size([1, 4096])\n",
      "Dropout, Output shape\t:torch.Size([1, 4096])\n",
      "Linear, Output shape\t:torch.Size([1, 4096])\n",
      "ReLU, Output shape\t:torch.Size([1, 4096])\n",
      "Dropout, Output shape\t:torch.Size([1, 4096])\n",
      "Linear, Output shape\t:torch.Size([1, 10])\n"
     ]
    }
   ],
   "source": [
    "x=torch.randn(1,1,224,224)\n",
    "\n",
    "for layer in net:\n",
    "    x=layer(x)\n",
    "    print(f\"{layer.__class__.__name__}, Output shape\\t:{x.shape}\")"
   ]
  },
  {
   "cell_type": "markdown",
   "id": "98c45567-83fd-4c00-9726-4dbac9b845a7",
   "metadata": {},
   "source": [
    "+ 这里可以注意一下，dropout层的输出，和它作用的Linear的输出维度是一样的，都是4096，所以**输出个数没变**\n",
    "+ dropout的p=0.5，所以这4096输出里，有一半输出是0，另一半是($\\frac{x_i}{1-p}$),也就是正常前面的Linear输出的二倍。这样就可以保证输出的期望不变\n",
    "+ 另外，这里输出的维度，第一维表示的是 batch_size,第二维才表示通道数。\n",
    "+ x=torch.randn(1,1,224,224) 表示x的通道数为1（可以认为就是输入网络最初的输入通道是1，和第一层卷积层输入通道对应）\n",
    "+ Conv2d, Output shape\t:torch.Size([1, 96, 54, 54]) 这里第二个维度，96，表示数据经过这个卷积层之后，输出的tensor的通道数是96，和第一层卷积层输出通道数对应。"
   ]
  },
  {
   "cell_type": "markdown",
   "id": "56e81f5d-9c86-4c37-9228-ab8f009fbcdb",
   "metadata": {},
   "source": [
    "## 加载数据"
   ]
  },
  {
   "cell_type": "markdown",
   "id": "4e68b954-1723-41bd-bc6f-dd4b80f02ffe",
   "metadata": {},
   "source": [
    "由于AlexNet设置输入是224维度，所以需要对输入的数据进行resize处理，其它都一样"
   ]
  },
  {
   "cell_type": "code",
   "execution_count": 13,
   "id": "4897a7ab-22f7-4810-a8ec-79ab5a69ce44",
   "metadata": {},
   "outputs": [],
   "source": [
    "batch_size=128\n",
    "train_iter,test_iter=d2l.load_data_fashion_mnist(batch_size,resize=224)"
   ]
  },
  {
   "cell_type": "markdown",
   "id": "b3a9322a-eaa0-4055-a18e-e84d440ec5c4",
   "metadata": {},
   "source": [
    "## 训练"
   ]
  },
  {
   "cell_type": "markdown",
   "id": "3798296f-0fe4-44d4-83b1-68275cd5e3c2",
   "metadata": {},
   "source": [
    "+ 和之前基本没什么区别，就直接去训练就好了。但是图像被resize，比以前大很多，所以训练起来会很慢\n",
    "+ 单纯靠自己这个没有gpu的电脑，没法跑的。就直接停掉了\n",
    "+ 用colab跑一下好了。。"
   ]
  },
  {
   "cell_type": "code",
   "execution_count": null,
   "id": "1a7f4d17-53ee-475c-96e5-2334a981d9ee",
   "metadata": {},
   "outputs": [],
   "source": [
    "lr, num_epochs = 0.01, 10\n",
    "d2l.train_ch6(net, train_iter, test_iter, num_epochs, lr, d2l.try_gpu())"
   ]
  },
  {
   "cell_type": "markdown",
   "id": "91535e49-f908-4cc5-947a-d6545bba940f",
   "metadata": {},
   "source": [
    "转到google colab的jupyter：<https://colab.research.google.com/drive/1OMQ3NRnDnevdE6yJ1zaoSJwESKeoUGIs#scrollTo=5U8UdZ_8NbVx>"
   ]
  },
  {
   "cell_type": "markdown",
   "id": "6af55752-a3c8-48aa-9ee8-b1499c7f10b9",
   "metadata": {},
   "source": [
    "# 猫狗数据集"
   ]
  },
  {
   "cell_type": "markdown",
   "id": "96fe0073-9994-4be0-a6b1-c3f168750b30",
   "metadata": {},
   "source": [
    "主要参考：[Image classification from scratch\n",
    "](https://keras.io/examples/vision/image_classification_from_scratch/)"
   ]
  },
  {
   "cell_type": "code",
   "execution_count": 1,
   "id": "ecf3900c-6b53-4965-ad15-a7723e6e4054",
   "metadata": {},
   "outputs": [
    {
     "name": "stdout",
     "output_type": "stream",
     "text": [
      "  % Total    % Received % Xferd  Average Speed   Time    Time     Time  Current\n",
      "                                 Dload  Upload   Total   Spent    Left  Speed\n",
      "100  786M  100  786M    0     0  10.3M      0  0:01:15  0:01:15 --:--:-- 10.6M.1M      0  0:01:17  0:00:23  0:00:54 10.5M1  0:00:15 10.2M\n"
     ]
    }
   ],
   "source": [
    "!curl -O https://download.microsoft.com/download/3/E/1/3E1C3F21-ECDB-4869-8368-6DEBA77B919F/kagglecatsanddogs_3367a.zip"
   ]
  },
  {
   "cell_type": "code",
   "execution_count": null,
   "id": "1b7a01c9-273f-431a-93a7-d67ae7592575",
   "metadata": {},
   "outputs": [],
   "source": [
    "!unzip -q kagglecatsanddogs_3367a.zip  # 解压  "
   ]
  },
  {
   "cell_type": "code",
   "execution_count": 3,
   "id": "880137c0-3cfd-4f93-80c2-65f7633f7336",
   "metadata": {},
   "outputs": [
    {
     "name": "stdout",
     "output_type": "stream",
     "text": [
      "\u001b[1m\u001b[36mCat\u001b[m\u001b[m \u001b[1m\u001b[36mDog\u001b[m\u001b[m\n"
     ]
    }
   ],
   "source": [
    "!ls PetImages"
   ]
  },
  {
   "cell_type": "markdown",
   "id": "eaa23d44-08e8-4bd9-a519-538ac81fe474",
   "metadata": {},
   "source": [
    "在使用这些图像之前，要检查一下是否有坏的图像。这一点上，torch和TensorFlow一样，都有对应的函数。\n",
    "\n",
    "参考：\n",
    "+ [Questions about Dataloader and Dataset](https://discuss.pytorch.org/t/questions-about-dataloader-and-dataset/806/2)\n",
    "+ [add exception handler for DataLoader when reading a damaged image file](https://github.com/pytorch/pytorch/issues/1137)"
   ]
  },
  {
   "cell_type": "markdown",
   "id": "b1089691-719c-412a-8aad-7eea83c1c368",
   "metadata": {},
   "source": [
    "下面是TensorFlow的示例，pytorch的暂时还没找到，可能要使用PIL这个库去预先处理一遍，读完再送入pytorch中"
   ]
  },
  {
   "cell_type": "markdown",
   "id": "3652efd3-3162-4207-a35b-c6598d556b75",
   "metadata": {},
   "source": [
    "```python\n",
    "import os\n",
    "\n",
    "num_skipped = 0\n",
    "for folder_name in (\"Cat\", \"Dog\"):\n",
    "    folder_path = os.path.join(\"PetImages\", folder_name)\n",
    "    for fname in os.listdir(folder_path):\n",
    "        fpath = os.path.join(folder_path, fname)\n",
    "        try:\n",
    "            fobj = open(fpath, \"rb\")\n",
    "            is_jfif = tf.compat.as_bytes(\"JFIF\") in fobj.peek(10)\n",
    "        finally:\n",
    "            fobj.close()\n",
    "\n",
    "        if not is_jfif:\n",
    "            num_skipped += 1\n",
    "            # Delete corrupted image\n",
    "            os.remove(fpath)\n",
    "\n",
    "print(\"Deleted %d images\" % num_skipped)\n",
    "```"
   ]
  },
  {
   "cell_type": "code",
   "execution_count": 6,
   "id": "356c1704-f130-48b5-a02b-7258b8c753e1",
   "metadata": {},
   "outputs": [
    {
     "data": {
      "text/plain": [
       "['__add__',\n",
       " '__class__',\n",
       " '__class_getitem__',\n",
       " '__delattr__',\n",
       " '__dict__',\n",
       " '__dir__',\n",
       " '__doc__',\n",
       " '__eq__',\n",
       " '__format__',\n",
       " '__ge__',\n",
       " '__getattribute__',\n",
       " '__getitem__',\n",
       " '__gt__',\n",
       " '__hash__',\n",
       " '__init__',\n",
       " '__init_subclass__',\n",
       " '__le__',\n",
       " '__lt__',\n",
       " '__module__',\n",
       " '__ne__',\n",
       " '__new__',\n",
       " '__orig_bases__',\n",
       " '__parameters__',\n",
       " '__reduce__',\n",
       " '__reduce_ex__',\n",
       " '__repr__',\n",
       " '__setattr__',\n",
       " '__sizeof__',\n",
       " '__slots__',\n",
       " '__str__',\n",
       " '__subclasshook__',\n",
       " '__weakref__']"
      ]
     },
     "execution_count": 6,
     "metadata": {},
     "output_type": "execute_result"
    }
   ],
   "source": [
    "from torch.utils.data import Dataset\n",
    "\n",
    "dir(Dataset)"
   ]
  },
  {
   "cell_type": "markdown",
   "id": "48e946cd-c9ad-4d72-a8bf-71872c2389bf",
   "metadata": {},
   "source": [
    "## 其他实现"
   ]
  },
  {
   "cell_type": "markdown",
   "id": "e42a8844-b060-4b75-9b02-f12b7de6344f",
   "metadata": {},
   "source": [
    "参考：\n",
    "+ [Image Classification between Dog and Cat using ResNet in PyTorch.](https://dockship.io/articles/5fe306bc5a4490141dab0b4a/image-classification-between-dog-and-cat-using-resnet-in-pytorch.#article-heading-5)\n",
    "+ [Pytorch CNN tutorial with cats and dogs](https://www.kaggle.com/reukki/pytorch-cnn-tutorial-with-cats-and-dogs/notebook)"
   ]
  }
 ],
 "metadata": {
  "kernelspec": {
   "display_name": "Python 3 (ipykernel)",
   "language": "python",
   "name": "python3"
  },
  "language_info": {
   "codemirror_mode": {
    "name": "ipython",
    "version": 3
   },
   "file_extension": ".py",
   "mimetype": "text/x-python",
   "name": "python",
   "nbconvert_exporter": "python",
   "pygments_lexer": "ipython3",
   "version": "3.7.11"
  }
 },
 "nbformat": 4,
 "nbformat_minor": 5
}
